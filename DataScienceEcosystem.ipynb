{
 "cells": [
  {
   "cell_type": "markdown",
   "id": "3436b69c",
   "metadata": {},
   "source": [
    "练习 2 - 创建一个带有笔记本标题的 markdown 单元格"
   ]
  },
  {
   "cell_type": "markdown",
   "id": "e8396dec",
   "metadata": {},
   "source": [
    "# DataScienceEcosystem"
   ]
  },
  {
   "cell_type": "markdown",
   "id": "c1288779",
   "metadata": {},
   "source": [
    "练习3 - 为引言创建一个 markdown 单元格"
   ]
  },
  {
   "cell_type": "markdown",
   "id": "4f05af7f",
   "metadata": {},
   "source": [
    "In this notebook, Data Science Tools and Ecosystem are summarized."
   ]
  },
  {
   "cell_type": "markdown",
   "id": "89398ac4",
   "metadata": {},
   "source": [
    "练习 10 - 插入一个标记单元格以列出目标"
   ]
  },
  {
   "cell_type": "markdown",
   "id": "2655f72c",
   "metadata": {},
   "source": [
    "**Objectives:**\n",
    "\n",
    "- List popular languages for Data Science\n",
    "- Describe commonly used libraries in Data Science\n",
    "- Create and format Markdown cells\n",
    "- Perform basic arithmetic operations in Python\n",
    "- Convert minutes to hours"
   ]
  },
  {
   "cell_type": "markdown",
   "id": "975d5a07",
   "metadata": {},
   "source": [
    "练习 4 - 创建一个 markdown 单元，列出数据科学语言"
   ]
  },
  {
   "cell_type": "markdown",
   "id": "cfb99c7b",
   "metadata": {},
   "source": [
    "Some of the popular languages that Data Scientists use are:\n",
    "\n",
    "1. Python\n",
    "2. R\n",
    "3. SQL\n",
    "4. Julia\n",
    "5. Scala\n"
   ]
  },
  {
   "cell_type": "markdown",
   "id": "ff58abb4",
   "metadata": {},
   "source": [
    "练习 5 - 创建一个 markdown 单元来列出数据科学库"
   ]
  },
  {
   "cell_type": "markdown",
   "id": "3c90b9c6",
   "metadata": {},
   "source": [
    "Some of the commonly used libraries used by Data Scientists include:\n",
    "\n",
    "1. NumPy\n",
    "2. pandas\n",
    "3. scikit-learn\n",
    "4. TensorFlow\n",
    "5. Keras\n"
   ]
  },
  {
   "cell_type": "markdown",
   "id": "ea92f1eb",
   "metadata": {},
   "source": [
    "练习 6 - 创建一个包含数据科学工具表的 markdown 单元。"
   ]
  },
  {
   "cell_type": "markdown",
   "id": "ad261c62",
   "metadata": {},
   "source": [
    "| Data Science Tools |\n",
    "|--------------------|\n",
    "| Jupyter Notebook   |\n",
    "| RStudio            |\n",
    "| Apache Zeppelin    |\n"
   ]
  },
  {
   "cell_type": "markdown",
   "id": "7f370663",
   "metadata": {},
   "source": [
    "练习 7 - 创建一个介绍算术表达式示例的标记符单元格。"
   ]
  },
  {
   "cell_type": "markdown",
   "id": "55f19a41",
   "metadata": {},
   "source": [
    "### Below are a few examples of evaluating arithmetic expressions in Python.\n",
    "\n",
    "```python\n",
    "# Example of evaluating arithmetic expressions\n",
    "a = 10\n",
    "b = 5\n",
    "\n",
    "# Addition\n",
    "addition = a + b\n",
    "print(\"Addition:\", addition)\n",
    "\n",
    "# Subtraction\n",
    "subtraction = a - b\n",
    "print(\"Subtraction:\", subtraction)\n",
    "\n",
    "# Multiplication\n",
    "multiplication = a * b\n",
    "print(\"Multiplication:\", multiplication)\n",
    "\n",
    "# Division\n",
    "division = a / b\n",
    "print(\"Division:\", division)\n"
   ]
  },
  {
   "cell_type": "markdown",
   "id": "e6a470a2",
   "metadata": {},
   "source": [
    "练习 8 - 创建一个乘法和加法单元格。"
   ]
  },
  {
   "cell_type": "code",
   "execution_count": 4,
   "id": "65ce5ad8",
   "metadata": {},
   "outputs": [
    {
     "data": {
      "text/plain": [
       "17"
      ]
     },
     "execution_count": 4,
     "metadata": {},
     "output_type": "execute_result"
    }
   ],
   "source": [
    "# This is a simple arithmetic expression to multiply then add integers\n",
    "result = (3 * 4) + 5\n",
    "result"
   ]
  },
  {
   "cell_type": "markdown",
   "id": "73cb560a",
   "metadata": {},
   "source": [
    "练习 9 - 创建一个代码单元格，将分钟转换为小时。"
   ]
  },
  {
   "cell_type": "code",
   "execution_count": 5,
   "id": "0a0253fe",
   "metadata": {},
   "outputs": [
    {
     "data": {
      "text/plain": [
       "3.3333333333333335"
      ]
     },
     "execution_count": 5,
     "metadata": {},
     "output_type": "execute_result"
    }
   ],
   "source": [
    "# This will convert 200 minutes to hours by dividing by 60\n",
    "minutes = 200\n",
    "hours = minutes / 60\n",
    "hours"
   ]
  },
  {
   "cell_type": "markdown",
   "id": "48d70150",
   "metadata": {},
   "source": [
    "练习 11 - 创建一个标记符单元格来标明作者姓名"
   ]
  },
  {
   "cell_type": "markdown",
   "id": "e4720f0e",
   "metadata": {},
   "source": [
    "## Author\n",
    "\n",
    "Reeta"
   ]
  }
 ],
 "metadata": {
  "kernelspec": {
   "display_name": "Python 3 (ipykernel)",
   "language": "python",
   "name": "python3"
  },
  "language_info": {
   "codemirror_mode": {
    "name": "ipython",
    "version": 3
   },
   "file_extension": ".py",
   "mimetype": "text/x-python",
   "name": "python",
   "nbconvert_exporter": "python",
   "pygments_lexer": "ipython3",
   "version": "3.11.5"
  }
 },
 "nbformat": 4,
 "nbformat_minor": 5
}
